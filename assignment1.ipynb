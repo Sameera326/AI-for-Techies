{
  "nbformat": 4,
  "nbformat_minor": 0,
  "metadata": {
    "colab": {
      "provenance": [],
      "authorship_tag": "ABX9TyNJnowUq3nXMd3M9Tpm8vOo",
      "include_colab_link": true
    },
    "kernelspec": {
      "name": "python3",
      "display_name": "Python 3"
    },
    "language_info": {
      "name": "python"
    }
  },
  "cells": [
    {
      "cell_type": "markdown",
      "metadata": {
        "id": "view-in-github",
        "colab_type": "text"
      },
      "source": [
        "<a href=\"https://colab.research.google.com/github/Sameera326/AI-for-Techies/blob/main/assignment1.ipynb\" target=\"_parent\"><img src=\"https://colab.research.google.com/assets/colab-badge.svg\" alt=\"Open In Colab\"/></a>"
      ]
    },
    {
      "cell_type": "code",
      "source": [
        "tasks = [\"task1\", \"task2\", \"task3\", \"task4\"]\n",
        "completed_tasks = []\n",
        "incompleted_tasks = []\n",
        "completed = [\"task1\", \"task3\"] # Example completed tasks\n",
        "\n",
        "for i in tasks:\n",
        "  if i in completed:\n",
        "    completed_tasks.append(i)\n",
        "  else:\n",
        "    incompleted_tasks.append(i)\n",
        "\n",
        "print(\"completed tasks:\", completed_tasks)\n",
        "print(\"incompleted tasks:\", incompleted_tasks)"
      ],
      "metadata": {
        "colab": {
          "base_uri": "https://localhost:8080/"
        },
        "id": "T8kEeRQUMo26",
        "outputId": "f16ac502-8e70-4344-b100-7a9ebfdbaa37"
      },
      "execution_count": 8,
      "outputs": [
        {
          "output_type": "stream",
          "name": "stdout",
          "text": [
            "completed tasks: ['task1', 'task3']\n",
            "incompleted tasks: ['task2', 'task4']\n"
          ]
        }
      ]
    }
  ]
}